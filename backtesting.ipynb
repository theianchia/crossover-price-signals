{
 "cells": [
  {
   "cell_type": "code",
   "execution_count": null,
   "metadata": {},
   "outputs": [],
   "source": [
    "import requests\n",
    "import datetime as dt\n",
    "import pandas as pd\n",
    "import numpy as np\n",
    "import plotly.graph_objects as go\n"
   ]
  },
  {
   "cell_type": "code",
   "execution_count": null,
   "metadata": {},
   "outputs": [],
   "source": [
    "URL = 'https://api.binance.com/api/v3/klines'\n",
    "SYMBOL = 'BTCUSDT'\n",
    "INTERVAL = '1m'\n",
    "START_TIME = dt.datetime(2024, 1, 1, 8, 0, 0)\n",
    "START_TIMESTAMP = int(START_TIME.timestamp()) * 1000\n",
    "\n",
    "COLUMNS = ['open_time', 'open', 'high', 'low', 'close', 'volume', 'close_time', 'quote_av', 'trades', 'tb_base_av', 'tb_quote_av', 'ignore']\n",
    "SELECTED_COLUMNS = ['open_time', 'close']\n",
    "\n",
    "params = {\n",
    "    'symbol': SYMBOL,\n",
    "    'interval': INTERVAL,\n",
    "    'startTime': START_TIMESTAMP,\n",
    "    'limit': 1000\n",
    "}\n",
    "\n",
    "response = requests.get(URL, params=params)\n",
    "data = response.json()\n",
    "df = pd.DataFrame(data, columns=COLUMNS)\n",
    "df['open_time'] = pd.to_datetime(df['open_time'], unit='ms')\n",
    "df['close'] = pd.to_numeric(df['close'])\n",
    "df.head()\n"
   ]
  },
  {
   "cell_type": "code",
   "execution_count": null,
   "metadata": {},
   "outputs": [],
   "source": [
    "selected_df = df[SELECTED_COLUMNS]\n",
    "selected_df.head()\n"
   ]
  },
  {
   "cell_type": "code",
   "execution_count": null,
   "metadata": {},
   "outputs": [],
   "source": [
    "returns = selected_df['close'].pct_change()\n",
    "returns.head()\n"
   ]
  },
  {
   "cell_type": "code",
   "execution_count": null,
   "metadata": {},
   "outputs": [],
   "source": [
    "terminal_return = selected_df['close'].iloc[-1] / selected_df['close'].iloc[0] - 1\n",
    "terminal_return\n"
   ]
  },
  {
   "cell_type": "code",
   "execution_count": null,
   "metadata": {},
   "outputs": [],
   "source": [
    "SHORT_WINDOW = 5\n",
    "LONG_WINDOW = 25\n",
    "SMA1 = \"SMA-\"+str(SHORT_WINDOW)\n",
    "SMA2 = \"SMA-\"+str(LONG_WINDOW)\n",
    "\n",
    "selected_df[SMA1] = selected_df['close'].rolling(SHORT_WINDOW).mean()\n",
    "selected_df[SMA2] = selected_df['close'].rolling(LONG_WINDOW).mean()\n",
    "selected_df.head()\n"
   ]
  },
  {
   "cell_type": "code",
   "execution_count": null,
   "metadata": {},
   "outputs": [],
   "source": [
    "print(np.mean(selected_df['close'][:5]), selected_df['SMA-5'][4])\n",
    "print(np.mean(selected_df['close'][1:6]), selected_df['SMA-5'][5])\n",
    "print(np.mean(selected_df['close'][:25]), selected_df['SMA-25'][24])\n",
    "print(np.mean(selected_df['close'][1:26]), selected_df['SMA-25'][25])\n"
   ]
  },
  {
   "cell_type": "code",
   "execution_count": null,
   "metadata": {},
   "outputs": [],
   "source": [
    "fig = go.Figure()\n",
    "\n",
    "fig.add_trace(go.Scatter(x=selected_df['open_time'], y=selected_df['close'], mode='lines', name='Price'))\n",
    "fig.add_trace(go.Scatter(x=selected_df['open_time'], y=selected_df['SMA-5'], mode='lines', name='5m SMA'))\n",
    "fig.add_trace(go.Scatter(x=selected_df['open_time'], y=selected_df['SMA-25'], mode='lines', name='25m SMA'))\n",
    "\n",
    "fig.update_layout(\n",
    "    title='Change in BTC/USDT Price and 5m, 25m Simple Moving Averages over time',\n",
    "    xaxis_title='Time',\n",
    "    yaxis_title='BTC/USDT Price',\n",
    ")\n",
    "\n",
    "fig.show()\n"
   ]
  },
  {
   "cell_type": "code",
   "execution_count": null,
   "metadata": {},
   "outputs": [],
   "source": [
    "selected_df['SMA-5'] = selected_df['SMA-5'].shift(1)\n",
    "selected_df['SMA-25'] = selected_df['SMA-25'].shift(1)\n",
    "\n",
    "selected_df['signal'] = np.where(selected_df['SMA-5'] > selected_df['SMA-25'], 1, 0)\n",
    "selected_df['signal'] = np.where(selected_df['SMA-5'] < selected_df['SMA-25'], -1, selected_df['signal'])\n",
    "selected_df.dropna(inplace=True)\n",
    "selected_df.head()\n"
   ]
  },
  {
   "cell_type": "code",
   "execution_count": null,
   "metadata": {},
   "outputs": [],
   "source": [
    "selected_df['signal'].value_counts()\n"
   ]
  },
  {
   "cell_type": "code",
   "execution_count": null,
   "metadata": {},
   "outputs": [],
   "source": [
    "selected_df['action'] = selected_df['signal'].diff()\n",
    "selected_df['action'].value_counts()\n"
   ]
  },
  {
   "cell_type": "code",
   "execution_count": null,
   "metadata": {},
   "outputs": [],
   "source": [
    "fig = go.Figure()\n",
    "\n",
    "fig.add_trace(go.Scatter(x=selected_df['open_time'], y=selected_df['close'], mode='lines', name='Price'))\n",
    "fig.add_trace(go.Scatter(x=selected_df['open_time'], y=selected_df['SMA-5'], mode='lines', name='5m SMA'))\n",
    "fig.add_trace(go.Scatter(x=selected_df['open_time'], y=selected_df['SMA-25'], mode='lines', name='25m SMA'))\n",
    "\n",
    "fig.add_trace(go.Scatter(\n",
    "    x=selected_df['open_time'],\n",
    "    y=selected_df['SMA-5'],\n",
    "    mode='markers',\n",
    "    marker=dict(\n",
    "        size=10,\n",
    "        color=selected_df['action'].apply(lambda val: \n",
    "            'green' if val == 2 else 'red' if val == -2 else 'rgba(0,0,0,0)'),\n",
    "        symbol=selected_df['action'].apply(lambda val: \n",
    "            'triangle-up' if val == 2 else 'triangle-down' if val == -2 else 'circle'),\n",
    "    ),\n",
    "    name='Action'\n",
    "))\n",
    "\n",
    "fig.update_layout(\n",
    "    title='Change in BTC/USDT Price and 5mins and 25mins Simple Moving Averages over time',\n",
    "    xaxis_title='Time',\n",
    "    yaxis_title='BTC/USDT Price',\n",
    ")\n",
    "fig.update_traces(showlegend=False, selector=dict(name='Action'))\n",
    "\n",
    "fig.show()\n"
   ]
  },
  {
   "cell_type": "code",
   "execution_count": null,
   "metadata": {},
   "outputs": [],
   "source": [
    "selected_df['log_return'] = np.log(selected_df['close']).diff() * selected_df['signal']\n",
    "selected_df.head()\n"
   ]
  },
  {
   "cell_type": "code",
   "execution_count": null,
   "metadata": {},
   "outputs": [],
   "source": [
    "print('Terminal return: {:.5%}'.format(np.exp(selected_df['log_return']).cumprod().iloc[-1] - 1))\n"
   ]
  },
  {
   "cell_type": "code",
   "execution_count": null,
   "metadata": {},
   "outputs": [],
   "source": []
  }
 ],
 "metadata": {
  "kernelspec": {
   "display_name": "venv",
   "language": "python",
   "name": "python3"
  },
  "language_info": {
   "codemirror_mode": {
    "name": "ipython",
    "version": 3
   },
   "file_extension": ".py",
   "mimetype": "text/x-python",
   "name": "python",
   "nbconvert_exporter": "python",
   "pygments_lexer": "ipython3",
   "version": "3.9.16"
  }
 },
 "nbformat": 4,
 "nbformat_minor": 2
}

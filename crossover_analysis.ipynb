{
 "cells": [
  {
   "cell_type": "code",
   "execution_count": null,
   "id": "911d0298",
   "metadata": {},
   "outputs": [],
   "source": [
    "import pandas as pd\n",
    "import numpy as np\n",
    "import plotly.graph_objects as go\n"
   ]
  },
  {
   "cell_type": "code",
   "execution_count": null,
   "id": "b58182a3",
   "metadata": {},
   "outputs": [],
   "source": [
    "df = pd.read_csv(\"sample_binance_partial_book.csv\")\n",
    "df.head()\n"
   ]
  },
  {
   "cell_type": "code",
   "execution_count": null,
   "id": "3a721628",
   "metadata": {},
   "outputs": [],
   "source": [
    "df.describe()\n"
   ]
  },
  {
   "cell_type": "code",
   "execution_count": null,
   "id": "205c9188",
   "metadata": {},
   "outputs": [],
   "source": [
    "fig = go.Figure()\n",
    "\n",
    "fig.add_trace(go.Scatter(x=df['Timestamp'], y=df['Mid Price'], mode='lines', name='Price'))\n",
    "fig.add_trace(go.Scatter(x=df['Timestamp'], y=df['25mins SMA'], mode='lines', name='25m SMA'))\n",
    "fig.add_trace(go.Scatter(x=df['Timestamp'], y=df['25mins EMA'], mode='lines', name='25m EMA'))\n",
    "\n",
    "fig.update_layout(\n",
    "    title='Change in BTC/USDT Price and 25mins Simple and Exponential Moving Averages over time',\n",
    "    xaxis_title='Time',\n",
    "    yaxis_title='BTC/USDT Price',\n",
    ")\n",
    "\n",
    "fig.show()\n"
   ]
  },
  {
   "cell_type": "code",
   "execution_count": null,
   "id": "f4f4c388",
   "metadata": {},
   "outputs": [],
   "source": [
    "fig = go.Figure()\n",
    "\n",
    "fig.add_trace(go.Scatter(x=df['Timestamp'], y=df['Mid Price'], mode='lines', name='Price'))\n",
    "fig.add_trace(go.Scatter(x=df['Timestamp'], y=df['5mins SMA'], mode='lines', name='5m SMA'))\n",
    "fig.add_trace(go.Scatter(x=df['Timestamp'], y=df['25mins SMA'], mode='lines', name='25m SMA'))\n",
    "\n",
    "fig.update_layout(\n",
    "    title='Change in BTC/USDT Price and 5mins and 25mins Simple Moving Averages over time',\n",
    "    xaxis_title='Time',\n",
    "    yaxis_title='BTC/USDT Price',\n",
    ")\n",
    "\n",
    "fig.show()\n"
   ]
  }
 ],
 "metadata": {
  "kernelspec": {
   "display_name": "Python 3 (ipykernel)",
   "language": "python",
   "name": "python3"
  },
  "language_info": {
   "codemirror_mode": {
    "name": "ipython",
    "version": 3
   },
   "file_extension": ".py",
   "mimetype": "text/x-python",
   "name": "python",
   "nbconvert_exporter": "python",
   "pygments_lexer": "ipython3",
   "version": "3.9.16"
  }
 },
 "nbformat": 4,
 "nbformat_minor": 5
}
